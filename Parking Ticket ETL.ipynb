{
 "cells": [
  {
   "cell_type": "markdown",
   "metadata": {},
   "source": [
    "# Data Ingestion Pipeline\n",
    "\n",
    "How this file works?\n",
    "\n",
    "    1.Download data and unzip to extract the csv files\n",
    "    \n",
    "    2.Pass the file names as list ( stored under \"filename\" variable)\n",
    "    \n",
    "    3.The csv files are then iteratively processed and appended to a consolidated dataframe called \"parking_df\"\n",
    "    \n",
    "    4.New features like day, month, year is created along with raw data\n",
    "    \n",
    "    5.Final parking_df is then exported as csv file called \"parking_ticket_data.csv\"\n",
    "    "
   ]
  },
  {
   "cell_type": "code",
   "execution_count": 38,
   "metadata": {},
   "outputs": [],
   "source": [
    "import pandas as pd\n",
    "\n",
    "filename = ['Parking_Tags_Data_2020.000.csv','Parking_Tags_Data_2020.001.csv','Parking_Tags_Data_2020.002.csv','Parking_Tags_Data_2020.003.csv',\n",
    "            'Parking_Tags_Data_2020.004.csv','Parking_Tags_Data_2020.005.csv',\n",
    "            'Parking_Tags_Data_2019.002.csv',\n",
    "            'Parking_Tags_Data_2019.001.csv',\n",
    "            'Parking_Tags_Data_2019.000.csv',\n",
    "           'Parking_Tags_Data_2019.005.csv',\n",
    "           'Parking_Tags_Data_2019.004.csv','Parking_Tags_Data_2019.003.csv','Parking_Tags_Data_2019.008.csv',\n",
    "           'Parking_Tags_Data_2019.007.csv','Parking_Tags_Data_2019.006.csv']\n",
    "\n",
    "parking = pd.DataFrame()"
   ]
  },
  {
   "cell_type": "code",
   "execution_count": 35,
   "metadata": {},
   "outputs": [],
   "source": [
    "def file_load(parking,filename):\n",
    "    for file in filename:\n",
    "            df = pd.read_csv(file)\n",
    "            df['year'] = df['date_of_infraction'].astype('str').str[0:4]\n",
    "            df['month'] = df['date_of_infraction'].astype('str').str[4:6]\n",
    "            df['day'] = df['date_of_infraction'].astype('str').str[6:]\n",
    "            df['new_date'] = pd.to_datetime(df[['year','month','day']])\n",
    "            parking = parking.append(df, ignore_index=True)\n",
    "                \n",
    "    return parking"
   ]
  },
  {
   "cell_type": "code",
   "execution_count": 39,
   "metadata": {},
   "outputs": [],
   "source": [
    "parking_df = file_load(parking,filename)"
   ]
  },
  {
   "cell_type": "code",
   "execution_count": 37,
   "metadata": {},
   "outputs": [
    {
     "name": "stdout",
     "output_type": "stream",
     "text": [
      "<class 'pandas.core.frame.DataFrame'>\n",
      "RangeIndex: 1403663 entries, 0 to 1403662\n",
      "Data columns (total 15 columns):\n",
      " #   Column                  Non-Null Count    Dtype         \n",
      "---  ------                  --------------    -----         \n",
      " 0   tag_number_masked       1403663 non-null  object        \n",
      " 1   date_of_infraction      1403663 non-null  int64         \n",
      " 2   infraction_code         1403663 non-null  int64         \n",
      " 3   infraction_description  1403663 non-null  object        \n",
      " 4   set_fine_amount         1403663 non-null  int64         \n",
      " 5   time_of_infraction      1402368 non-null  float64       \n",
      " 6   location1               1227008 non-null  object        \n",
      " 7   location2               1403544 non-null  object        \n",
      " 8   location3               99349 non-null    object        \n",
      " 9   location4               99736 non-null    object        \n",
      " 10  province                1403663 non-null  object        \n",
      " 11  year                    1403663 non-null  object        \n",
      " 12  month                   1403663 non-null  object        \n",
      " 13  day                     1403663 non-null  object        \n",
      " 14  new_date                1403663 non-null  datetime64[ns]\n",
      "dtypes: datetime64[ns](1), float64(1), int64(3), object(10)\n",
      "memory usage: 160.6+ MB\n"
     ]
    }
   ],
   "source": [
    "parking_df.info()"
   ]
  },
  {
   "cell_type": "code",
   "execution_count": 40,
   "metadata": {},
   "outputs": [],
   "source": [
    "# export data to csv\n",
    "parking_df.to_csv('parking_ticket_data.csv')"
   ]
  }
 ],
 "metadata": {
  "kernelspec": {
   "display_name": "Python 3",
   "language": "python",
   "name": "python3"
  },
  "language_info": {
   "codemirror_mode": {
    "name": "ipython",
    "version": 3
   },
   "file_extension": ".py",
   "mimetype": "text/x-python",
   "name": "python",
   "nbconvert_exporter": "python",
   "pygments_lexer": "ipython3",
   "version": "3.7.6"
  }
 },
 "nbformat": 4,
 "nbformat_minor": 4
}
